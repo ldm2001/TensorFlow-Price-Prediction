{
 "cells": [
  {
   "cell_type": "code",
   "execution_count": 1,
   "id": "1456fa34-4c7a-4f57-bc0b-9dfdae75ebf4",
   "metadata": {},
   "outputs": [],
   "source": [
    "import tensorflow as tf\n",
    "import numpy as np"
   ]
  },
  {
   "cell_type": "code",
   "execution_count": 3,
   "id": "2fd8f3c6-8ec4-4aeb-aed7-902545ec66f4",
   "metadata": {},
   "outputs": [],
   "source": [
    "# 가중치와 편향 초기화 \n",
    "W = tf.Variable(tf.random.normal([4, 1], dtype=tf.float32), name=\"weight\")\n",
    "b = tf.Variable(tf.random.normal([1], dtype=tf.float32), name=\"bias\")"
   ]
  },
  {
   "cell_type": "code",
   "execution_count": 5,
   "id": "c2eea681-be7e-4011-bf4f-fe98c407e12f",
   "metadata": {},
   "outputs": [],
   "source": [
    "# 가설 설정\n",
    "def hypothesis(X):\n",
    "    return tf.matmul(X, W) + b"
   ]
  },
  {
   "cell_type": "code",
   "execution_count": 9,
   "id": "1abe545e-1965-4a40-a3b8-3c5bfcb66c45",
   "metadata": {},
   "outputs": [
    {
     "data": {
      "text/plain": [
       "<tensorflow.python.checkpoint.checkpoint.CheckpointLoadStatus at 0x247e34fcf20>"
      ]
     },
     "execution_count": 9,
     "metadata": {},
     "output_type": "execute_result"
    }
   ],
   "source": [
    "ckpt = tf.train.Checkpoint(W=W, b=b)\n",
    "ckpt.restore(\"./saved.ckpt-1\").expect_partial()"
   ]
  },
  {
   "cell_type": "code",
   "execution_count": 11,
   "id": "fc79cf1f-c05a-47c9-85e1-b04e06e05182",
   "metadata": {},
   "outputs": [
    {
     "name": "stdin",
     "output_type": "stream",
     "text": [
      "평균 온도:  19.3\n",
      "최저 온도:  11.8\n",
      "최고 온도:  26.5\n",
      "강수량:  0\n"
     ]
    }
   ],
   "source": [
    "avg_temp = float(input('평균 온도: '))\n",
    "min_temp = float(input('최저 온도: '))\n",
    "max_temp = float(input('최고 온도: '))\n",
    "rain_fall = float(input('강수량: '))"
   ]
  },
  {
   "cell_type": "code",
   "execution_count": 13,
   "id": "3391afa1-40d7-466e-8006-2c1b06b26ea3",
   "metadata": {},
   "outputs": [
    {
     "name": "stdout",
     "output_type": "stream",
     "text": [
      "예측된 사과 가격: 4757.3857421875\n"
     ]
    }
   ],
   "source": [
    "# 예측 \n",
    "data = np.array([[avg_temp, min_temp, max_temp, rain_fall]], dtype=np.float32)\n",
    "prediction = hypothesis(data).numpy()  \n",
    "print(f\"예측된 사과 가격: {prediction[0][0]}\")"
   ]
  }
 ],
 "metadata": {
  "kernelspec": {
   "display_name": "Python 3 (ipykernel)",
   "language": "python",
   "name": "python3"
  },
  "language_info": {
   "codemirror_mode": {
    "name": "ipython",
    "version": 3
   },
   "file_extension": ".py",
   "mimetype": "text/x-python",
   "name": "python",
   "nbconvert_exporter": "python",
   "pygments_lexer": "ipython3",
   "version": "3.12.4"
  }
 },
 "nbformat": 4,
 "nbformat_minor": 5
}
